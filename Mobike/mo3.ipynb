{
 "cells": [
  {
   "cell_type": "markdown",
   "metadata": {},
   "source": [
    "# Mobike in Beijing, 10-24 May 2017\n",
    "\n",
    "## Overview of the ride data\n",
    "The data contains 3214, 096 records of rides. We are analysing the 776,786 records in Beijing. \n",
    "\n",
    "<img src=\"HeatMap3.jpg\">"
   ]
  },
  {
   "cell_type": "markdown",
   "metadata": {},
   "source": [
    "## When does people ride? \n",
    "\n",
    "Here is a bar plot of people's rides. \n",
    "People rides less during the weekends. \n",
    "\n",
    "<img src=\"1.jpg\">\n",
    "\n",
    "Zooming into 22nd of May, compared to 21st, the rain in Beijing did stop people from riding at noon but there is still a traffic when people commute back home at 5pm.\n",
    "\n",
    "<img src=\"2.jpg\">"
   ]
  },
  {
   "cell_type": "markdown",
   "metadata": {},
   "source": [
    "## Weekday and weekends \n",
    "\n",
    "There is a significant difference in the destination and number of rides between weekdays and weekends. \n",
    "\n",
    "<img src=\"WEWD.png\">\n",
    "\n",
    "A lot less traffic at weekends\n",
    "\n",
    "<img src=\"HeatMapW.jpg\">\n",
    "\n",
    "To find out where people loves to go more we take the difference between weekday and weekend rides. \n",
    "\n",
    "<img src=\"HeatMapWdiff.jpg\">\n",
    "\n",
    "No wonder, people use mobikes to commute during the week. \n",
    "\n",
    "At weekends, they simply stay at the suburbs. "
   ]
  },
  {
   "cell_type": "markdown",
   "metadata": {},
   "source": [
    "## How bikes help subway users \n",
    "<img src=\"SubwayHeat.jpg\">"
   ]
  },
  {
   "cell_type": "markdown",
   "metadata": {},
   "source": [
    "# Future work\n",
    "\n",
    "- Workout how people ride to subway stations: estimate the radius of coverage of a subway station\n",
    "- Train a NN to anticipate where a user wants to go once a bike is unlocked\n",
    "- Quantify how weather impact people's rides (Need more data)\n",
    "- Train a NN to predict if a certain area will need more bike than supplied"
   ]
  },
  {
   "cell_type": "code",
   "execution_count": null,
   "metadata": {},
   "outputs": [],
   "source": []
  }
 ],
 "metadata": {
  "kernelspec": {
   "display_name": "Python 3",
   "language": "python",
   "name": "python3"
  },
  "language_info": {
   "codemirror_mode": {
    "name": "ipython",
    "version": 3
   },
   "file_extension": ".py",
   "mimetype": "text/x-python",
   "name": "python",
   "nbconvert_exporter": "python",
   "pygments_lexer": "ipython3",
   "version": "3.5.1"
  }
 },
 "nbformat": 4,
 "nbformat_minor": 2
}
